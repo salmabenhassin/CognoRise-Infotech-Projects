{
  "cells": [
    {
      "cell_type": "markdown",
      "metadata": {
        "id": "CkNvfokAq2ZG"
      },
      "source": [
        "## Setting Up the Tic-Tac-Toe Board"
      ]
    },
    {
      "cell_type": "code",
      "execution_count": null,
      "metadata": {
        "id": "PVfhv16tpBMK"
      },
      "outputs": [],
      "source": [
        "def display_board(board):\n",
        "    \"\"\"\n",
        "    Display the current state of the Tic-Tac-Toe board.\n",
        "\n",
        "    Parameters:\n",
        "    - board (list): A 2D list representing the Tic-Tac-Toe board.\n",
        "\n",
        "    Each cell of the board is displayed, separated by '|' for columns,\n",
        "    and rows are separated by a line of dashes ('-----').\n",
        "\n",
        "    Example:\n",
        "    If the board is [['X', 'O', ' '], [' ', 'X', 'O'], ['O', ' ', 'X']],\n",
        "    the output will be:\n",
        "    X|O|\n",
        "    -----\n",
        "     |X|O\n",
        "    -----\n",
        "    O| |X\n",
        "    \"\"\"\n",
        "    for i, row in enumerate(board):\n",
        "        # Display the cells of the current row, separated by '|'\n",
        "        print('|'.join(row))\n",
        "\n",
        "        # Display a line of dashes to separate rows, but not after the last row\n",
        "        if i < len(board) - 1:\n",
        "            print('-' * 5)"
      ]
    },
    {
      "cell_type": "code",
      "execution_count": null,
      "metadata": {
        "id": "zl-q1CT1oU5A",
        "colab": {
          "base_uri": "https://localhost:8080/"
        },
        "outputId": "58e64d23-fd64-4151-88e2-e6526a997925"
      },
      "outputs": [
        {
          "output_type": "stream",
          "name": "stdout",
          "text": [
            " | | \n",
            "-----\n",
            " | | \n",
            "-----\n",
            " | | \n"
          ]
        }
      ],
      "source": [
        "# Create a 3x3 grid to represent the Tic-Tac-Toe board\n",
        "# The nested list comprehension fills the board with empty spaces (' ')\n",
        "board = [[' ' for _ in range(3)] for _ in range(3)]\n",
        "\n",
        "# Call the display_board function to print the current state of the board\n",
        "display_board(board)"
      ]
    },
    {
      "cell_type": "markdown",
      "metadata": {
        "id": "nz-hqKCrrKcr"
      },
      "source": [
        "## Preparing the Game Environment"
      ]
    },
    {
      "cell_type": "code",
      "execution_count": null,
      "metadata": {
        "id": "eOC2j1CBpHVs"
      },
      "outputs": [],
      "source": [
        "def check_win(board, player):\n",
        "    \"\"\"\n",
        "    Check if the specified player has won the Tic-Tac-Toe game.\n",
        "\n",
        "    Parameters:\n",
        "    - board (list): A 2D list representing the Tic-Tac-Toe board.\n",
        "    - player (str): The player to check for a win ('X' or 'O').\n",
        "\n",
        "    Returns:\n",
        "    - bool: True if the specified player has won, False otherwise.\n",
        "\n",
        "    This function checks for a win by the specified player in three directions: rows, columns, and diagonals.\n",
        "    If a winning combination is found, the function returns True; otherwise, it returns False.\n",
        "\n",
        "    Example:\n",
        "    Calling check_win(board, 'X') returns True if 'X' has won the game.\n",
        "    \"\"\"\n",
        "    # Check rows\n",
        "    for row in board:\n",
        "        if all(cell == player for cell in row):\n",
        "            return True\n",
        "\n",
        "    # Check columns\n",
        "    for col in range(3):\n",
        "        if all(board[row][col] == player for row in range(3)):\n",
        "            return True\n",
        "\n",
        "    # Check diagonals\n",
        "    if all(board[i][i] == player for i in range(3)) or all(board[i][2 - i] == player for i in range(3)):\n",
        "        return True\n",
        "\n",
        "    return False"
      ]
    },
    {
      "cell_type": "code",
      "execution_count": null,
      "metadata": {
        "id": "Jup8NoZfOeRu"
      },
      "outputs": [],
      "source": [
        "def is_draw(board):\n",
        "    \"\"\"\n",
        "    Check if the Tic-Tac-Toe game is a draw (no more empty spaces on the board).\n",
        "\n",
        "    Parameters:\n",
        "    - board (list): A 2D list representing the Tic-Tac-Toe board.\n",
        "\n",
        "    Returns:\n",
        "    - bool: True if the game is a draw, False otherwise.\n",
        "\n",
        "    This function checks if there are no more empty spaces (' ') on the board, indicating a draw.\n",
        "\n",
        "    Example:\n",
        "    Calling is_draw(board) returns True if the game is a draw.\n",
        "    \"\"\"\n",
        "    # Check if the game is a draw (no more empty spaces on the board)\n",
        "    return all(cell != ' ' for row in board for cell in row)"
      ]
    },
    {
      "cell_type": "code",
      "execution_count": null,
      "metadata": {
        "id": "AuR_enQmpFTQ"
      },
      "outputs": [],
      "source": [
        "def player_move(board):\n",
        "    \"\"\"\n",
        "    Get the player's move (row and column) from the user input.\n",
        "\n",
        "    Parameters:\n",
        "    - board (list): A 2D list representing the Tic-Tac-Toe board.\n",
        "\n",
        "    Returns:\n",
        "    - tuple: The selected row and column coordinates.\n",
        "\n",
        "    This function uses a while loop to repeatedly prompt the player for input\n",
        "    until a valid move is entered. It ensures that the input consists of valid\n",
        "    integers within the range 0-2 and that the chosen cell on the board is empty.\n",
        "    If the input is invalid, an appropriate error message is displayed.\n",
        "\n",
        "    Example:\n",
        "    If the player enters '1' for the row and '2' for the column,\n",
        "    and the corresponding cell on the board is empty, the function returns (1, 2).\n",
        "    \"\"\"\n",
        "    while True:\n",
        "        try:\n",
        "            # Get input for row and column from the player\n",
        "            row = int(input(\"Enter row (0, 1, 2): \"))\n",
        "            col = int(input(\"Enter column (0, 1, 2): \"))\n",
        "\n",
        "            # Check if the input is within the valid range and the selected cell is empty\n",
        "            if 0 <= row <= 2 and 0 <= col <= 2 and board[row][col] == ' ':\n",
        "                return row, col\n",
        "            else:\n",
        "                print(\"Invalid move. Try again.\")\n",
        "        except ValueError:\n",
        "            # Handle the case where the input is not a valid integer\n",
        "            print(\"Invalid input. Enter numbers between 0 and 2.\")"
      ]
    },
    {
      "cell_type": "markdown",
      "metadata": {
        "id": "-E70UvjIVRKG"
      },
      "source": [
        "## Building the Minimax AI Player"
      ]
    },
    {
      "cell_type": "code",
      "execution_count": null,
      "metadata": {
        "id": "_COxxyIEVTih"
      },
      "outputs": [],
      "source": [
        "def minimax(board, depth, is_maximizing, max_depth):\n",
        "    \"\"\"\n",
        "    Implement the Minimax algorithm for Tic-Tac-Toe.\n",
        "\n",
        "    Parameters:\n",
        "    - board (list): A 2D list representing the Tic-Tac-Toe board.\n",
        "    - depth (int): The current depth in the recursive search of the game tree\n",
        "    - is_maximizing (bool): Indicates whether the current player is maximizing (True) or minimizing (False).\n",
        "    - max_depth (int): The maximum depth to explore in the game tree.\n",
        "\n",
        "    Returns:\n",
        "    - int: The calculated score for the current state of the board.\n",
        "\n",
        "    This function recursively explores the game tree using the Minimax algorithm to determine the optimal move\n",
        "    for the current player. It assigns scores to game states based on the outcome of the game or the specified depth.\n",
        "    \"\"\"\n",
        "\n",
        "    # Base case: Check if the game is won by 'X' or 'O' or if it's a draw\n",
        "    if check_win(board, 'X'):\n",
        "        return -1                 # 'X' wins, return a negative value\n",
        "    elif check_win(board, 'O'):\n",
        "        return 1                  # 'O' wins, return a positive value\n",
        "    elif is_draw(board) or depth == max_depth:\n",
        "        return 0                  # It's a draw or reached the specified depth, return 0\n",
        "\n",
        "    if is_maximizing:\n",
        "        # If maximizing, initialize the maximum evaluation score to negative infinity\n",
        "        max_eval = -float('inf')\n",
        "        for i in range(3):\n",
        "            for j in range(3):\n",
        "                if board[i][j] == ' ':\n",
        "                    # Simulate the move for the maximizing player ('O')\n",
        "                    board[i][j] = 'O'\n",
        "                    # Recursively call minimax for the next level with the minimizing player's turn\n",
        "                    eval = minimax(board, depth + 1, False, max_depth)\n",
        "                    # Undo the move\n",
        "                    board[i][j] = ' '\n",
        "                    # Update the maximum evaluation score\n",
        "                    max_eval = max(max_eval, eval)\n",
        "        return max_eval\n",
        "    else:\n",
        "        # If minimizing, initialize the minimum evaluation score to positive infinity\n",
        "        min_eval = float('inf')\n",
        "        for i in range(3):\n",
        "            for j in range(3):\n",
        "                if board[i][j] == ' ':\n",
        "                    # Simulate the move for the minimizing player ('X')\n",
        "                    board[i][j] = 'X'\n",
        "                    # Recursively call minimax for the next level with the maximizing player's turn\n",
        "                    eval = minimax(board, depth + 1, True, max_depth)\n",
        "                    # Undo the move\n",
        "                    board[i][j] = ' '\n",
        "                    # Update the minimum evaluation score\n",
        "                    min_eval = min(min_eval, eval)\n",
        "        return min_eval"
      ]
    },
    {
      "cell_type": "code",
      "execution_count": null,
      "metadata": {
        "id": "QEnT8qIPV1Ti"
      },
      "outputs": [],
      "source": [
        "def ai_move(board, max_depth):\n",
        "    \"\"\"\n",
        "    Determine the optimal move for the AI player using Minimax algorithm.\n",
        "\n",
        "    Parameters:\n",
        "    - board (list): A 2D list representing the Tic-Tac-Toe board.\n",
        "    - max_depth (int): The maximum depth to explore in the Minimax algorithm\n",
        "\n",
        "    Returns:\n",
        "    - tuple: The coordinates (row, column) of the optimal move for the AI player.\n",
        "\n",
        "    This function iterates through each empty space on the board, simulates placing an 'O' in that space,\n",
        "    and evaluates the move using the Minimax algorithm. The AI player chooses the move with the highest\n",
        "    evaluation score.\n",
        "    \"\"\"\n",
        "    best_eval = -float('inf')\n",
        "    best_move = None\n",
        "\n",
        "    for i in range(3):\n",
        "        for j in range(3):\n",
        "            if board[i][j] == ' ':\n",
        "                board[i][j] = 'O'\n",
        "                eval = minimax(board, 0, False, max_depth)\n",
        "                board[i][j] = ' '\n",
        "                if eval > best_eval:\n",
        "                    best_eval = eval\n",
        "                    best_move = (i, j)\n",
        "\n",
        "    return best_move"
      ]
    },
    {
      "cell_type": "markdown",
      "metadata": {
        "id": "I9dcL_NGFnAM"
      },
      "source": [
        "## Playing the Game Against Our AI Player"
      ]
    },
    {
      "cell_type": "code",
      "execution_count": null,
      "metadata": {
        "id": "1wAotkarfn7k",
        "colab": {
          "base_uri": "https://localhost:8080/"
        },
        "outputId": "49a8eb8f-7087-447e-e075-98766a39ff7d"
      },
      "outputs": [
        {
          "output_type": "stream",
          "name": "stdout",
          "text": [
            " | | \n",
            "-----\n",
            " | | \n",
            "-----\n",
            " | | \n",
            "\n",
            "\n",
            "Your turn:\n",
            "Enter row (0, 1, 2): 0,1,2\n",
            "Invalid input. Enter numbers between 0 and 2.\n",
            "Enter row (0, 1, 2): 0 1 2\n",
            "Invalid input. Enter numbers between 0 and 2.\n",
            "Enter row (0, 1, 2): 0\n",
            "Enter column (0, 1, 2): 1\n",
            "\n",
            "\n",
            " |X| \n",
            "-----\n",
            " | | \n",
            "-----\n",
            " | | \n",
            "\n",
            "\n",
            "Press Enter for the Ai player to go...\n",
            "\n",
            "\n",
            "O|X| \n",
            "-----\n",
            " | | \n",
            "-----\n",
            " | | \n",
            "\n",
            "\n",
            "Your turn:\n",
            "Enter row (0, 1, 2): 1\n",
            "Enter column (0, 1, 2): 2\n",
            "\n",
            "\n",
            "O|X| \n",
            "-----\n",
            " | |X\n",
            "-----\n",
            " | | \n",
            "\n",
            "\n",
            "Press Enter for the Ai player to go...\n",
            "\n",
            "\n",
            "O|X|O\n",
            "-----\n",
            " | |X\n",
            "-----\n",
            " | | \n",
            "\n",
            "\n",
            "Your turn:\n",
            "Enter row (0, 1, 2): 1\n",
            "Enter column (0, 1, 2): 2\n",
            "Invalid move. Try again.\n",
            "Enter row (0, 1, 2): 1\n",
            "Enter column (0, 1, 2): 1\n",
            "\n",
            "\n",
            "O|X|O\n",
            "-----\n",
            " |X|X\n",
            "-----\n",
            " | | \n",
            "\n",
            "\n",
            "Press Enter for the Ai player to go...\n",
            "\n",
            "\n",
            "O|X|O\n",
            "-----\n",
            "O|X|X\n",
            "-----\n",
            " | | \n",
            "\n",
            "\n",
            "Your turn:\n",
            "Enter row (0, 1, 2): 2\n",
            "Enter column (0, 1, 2): 1\n",
            "\n",
            "\n",
            "O|X|O\n",
            "-----\n",
            "O|X|X\n",
            "-----\n",
            " |X| \n",
            "You win!\n"
          ]
        }
      ],
      "source": [
        "def main():\n",
        "    \"\"\"\n",
        "    Run the main game loop for a simple Tic-Tac-Toe game.\n",
        "\n",
        "    The game loop alternates between player and AI turns, displaying the current state of the board after each move.\n",
        "    The loop continues until there is a winner ('X' or 'O'), a draw, or the player chooses to exit the game.\n",
        "\n",
        "    This function uses the display_board, player_move, ai_move, check_win, and is_draw functions to implement the game logic.\n",
        "\n",
        "    Example:\n",
        "    Calling main() starts and runs the Tic-Tac-Toe game until a winner is declared or the game ends in a draw.\n",
        "    \"\"\"\n",
        "\n",
        "    # Reset the game board\n",
        "    board = [[' ' for _ in range(3)] for _ in range(3)]\n",
        "\n",
        "    player_turn = True\n",
        "\n",
        "    while True:\n",
        "        display_board(board)\n",
        "\n",
        "        if player_turn:\n",
        "            print(\"\\n\")\n",
        "            print(\"Your turn:\")\n",
        "            row, col = player_move(board)\n",
        "            print(\"\\n\")\n",
        "            board[row][col] = 'X'\n",
        "        else:\n",
        "            print(\"\\n\")\n",
        "            input(\"Press Enter for the Ai player to go...\")\n",
        "            \"\"\"\n",
        "            Change the depth explored by the AI player by changing the number in\n",
        "            parentheses in the next line of code. The default value is 0.\n",
        "            \"\"\"\n",
        "            row, col = ai_move(board, 0)    # TODO: Adjust the depth explored here!\n",
        "            print(\"\\n\")\n",
        "            board[row][col] = 'O'\n",
        "\n",
        "        if check_win(board, 'X'):\n",
        "            display_board(board)\n",
        "            print(\"You win!\")\n",
        "            break\n",
        "        elif check_win(board, 'O'):\n",
        "            display_board(board)\n",
        "            print(\"AI wins!\")\n",
        "            break\n",
        "        elif is_draw(board):\n",
        "            display_board(board)\n",
        "            print(\"It's a draw!\")\n",
        "            break\n",
        "\n",
        "        player_turn = not player_turn\n",
        "\n",
        "if __name__ == \"__main__\":\n",
        "    main()\n"
      ]
    },
    {
      "cell_type": "code",
      "source": [],
      "metadata": {
        "id": "UlxgpejMXp_z"
      },
      "execution_count": null,
      "outputs": []
    }
  ],
  "metadata": {
    "colab": {
      "provenance": []
    },
    "kernelspec": {
      "display_name": "Python 3",
      "name": "python3"
    },
    "language_info": {
      "name": "python"
    }
  },
  "nbformat": 4,
  "nbformat_minor": 0
}